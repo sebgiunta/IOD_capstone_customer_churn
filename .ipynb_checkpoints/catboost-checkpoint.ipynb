{
 "cells": [
  {
   "cell_type": "code",
   "execution_count": 12,
   "id": "c0e57ce1",
   "metadata": {},
   "outputs": [],
   "source": [
    "# Import Modules\n",
    "\n",
    "# Standard\n",
    "import pandas as pd\n",
    "import numpy as np\n",
    "import matplotlib.pyplot as plt\n",
    "\n",
    "# CatBoost\n",
    "from catboost import CatBoostClassifier, cv, Pool, metrics\n",
    "from catboost.utils import eval_metric\n",
    "\n",
    "# Sklearn\n",
    "from sklearn.model_selection import train_test_split, GridSearchCV\n",
    "from sklearn.metrics import f1_score, accuracy_score, make_scorer, confusion_matrix\n",
    "from sklearn.preprocessing import StandardScaler, LabelEncoder\n",
    "\n",
    "# Custom Code\n",
    "from show_summary_report import show_summary_report\n",
    "\n",
    "# Pandas Options\n",
    "pd.set_option('display.max_columns', None)\n",
    "pd.set_option('display.max_rows', None)"
   ]
  },
  {
   "cell_type": "code",
   "execution_count": 13,
   "id": "5e808aee",
   "metadata": {},
   "outputs": [],
   "source": [
    "# Import Data\n",
    "\n",
    "df = pd.read_csv('dataset/BankChurners.csv')\n",
    "\n",
    "# Drop columns that aren't needed\n",
    "\n",
    "df.drop(df.columns[[0, 21, 22]], axis=1, inplace=True)"
   ]
  },
  {
   "cell_type": "code",
   "execution_count": 14,
   "id": "5aa88897",
   "metadata": {},
   "outputs": [],
   "source": [
    "df.Attrition_Flag = df.Attrition_Flag.replace('Existing Customer', 0)\n",
    "df.Attrition_Flag = df.Attrition_Flag.replace('Attrited Customer', 1)"
   ]
  },
  {
   "cell_type": "code",
   "execution_count": 15,
   "id": "7306e90f",
   "metadata": {},
   "outputs": [
    {
     "data": {
      "text/plain": [
       "['Gender',\n",
       " 'Education_Level',\n",
       " 'Marital_Status',\n",
       " 'Income_Category',\n",
       " 'Card_Category']"
      ]
     },
     "execution_count": 15,
     "metadata": {},
     "output_type": "execute_result"
    }
   ],
   "source": [
    "categorical_features = [col for col in df.columns if df[col].dtype == 'object']\n",
    "categorical_features"
   ]
  },
  {
   "cell_type": "code",
   "execution_count": 16,
   "id": "498daa27",
   "metadata": {},
   "outputs": [
    {
     "data": {
      "text/plain": [
       "(10127, 20)"
      ]
     },
     "execution_count": 16,
     "metadata": {},
     "output_type": "execute_result"
    }
   ],
   "source": [
    "df.shape"
   ]
  },
  {
   "cell_type": "code",
   "execution_count": 17,
   "id": "f58d1e0f",
   "metadata": {},
   "outputs": [],
   "source": [
    "# Create X & Y\n",
    "\n",
    "y = df.Attrition_Flag\n",
    "X = df.drop('Attrition_Flag', axis=1)"
   ]
  },
  {
   "cell_type": "code",
   "execution_count": 18,
   "id": "b70910ac",
   "metadata": {},
   "outputs": [],
   "source": [
    "X_train, X_test, y_train, y_test = train_test_split(X, y, test_size=0.30,\n",
    "                                                   random_state=0, stratify=y)"
   ]
  },
  {
   "cell_type": "code",
   "execution_count": 19,
   "id": "7a730eb3",
   "metadata": {},
   "outputs": [],
   "source": [
    "train_pool = Pool(X_train, y_train, cat_features=categorical_features)\n",
    "val_pool = Pool(X_test, y_test, cat_features=categorical_features)"
   ]
  },
  {
   "cell_type": "code",
   "execution_count": 20,
   "id": "a386fb55",
   "metadata": {},
   "outputs": [
    {
     "data": {
      "text/plain": [
       "<catboost.core.CatBoostClassifier at 0x224457d5b80>"
      ]
     },
     "execution_count": 20,
     "metadata": {},
     "output_type": "execute_result"
    }
   ],
   "source": [
    "model = CatBoostClassifier(verbose=False)\n",
    "model.fit(train_pool, eval_set=val_pool)"
   ]
  },
  {
   "cell_type": "code",
   "execution_count": 21,
   "id": "5bdd3a62",
   "metadata": {},
   "outputs": [
    {
     "data": {
      "text/plain": [
       "[0.9114194236926361]"
      ]
     },
     "execution_count": 21,
     "metadata": {},
     "output_type": "execute_result"
    }
   ],
   "source": [
    "y_pred = model.predict(val_pool)\n",
    "eval_metric(val_pool.get_label(), y_pred, 'F1')"
   ]
  },
  {
   "cell_type": "code",
   "execution_count": null,
   "id": "19200c50",
   "metadata": {},
   "outputs": [],
   "source": []
  },
  {
   "cell_type": "code",
   "execution_count": null,
   "id": "fd44990f",
   "metadata": {},
   "outputs": [],
   "source": []
  },
  {
   "cell_type": "code",
   "execution_count": null,
   "id": "d78d9f0d",
   "metadata": {},
   "outputs": [],
   "source": []
  },
  {
   "cell_type": "code",
   "execution_count": 60,
   "id": "703d82b2",
   "metadata": {},
   "outputs": [],
   "source": [
    "model = CatBoostClassifier(\n",
    "    custom_loss= [metrics.F1(), metrics.Recall()],\n",
    "    eval_metric = metrics.F1(),\n",
    "    random_seed=0,\n",
    "    logging_level='Silent'\n",
    ")"
   ]
  },
  {
   "cell_type": "code",
   "execution_count": 61,
   "id": "f523c5ca",
   "metadata": {},
   "outputs": [
    {
     "data": {
      "application/vnd.jupyter.widget-view+json": {
       "model_id": "8acbf8422b8242c4bbdd409642a09172",
       "version_major": 2,
       "version_minor": 0
      },
      "text/plain": [
       "MetricVisualizer(layout=Layout(align_self='stretch', height='500px'))"
      ]
     },
     "metadata": {},
     "output_type": "display_data"
    }
   ],
   "source": [
    "model.fit(\n",
    "    X_train, y_train,\n",
    "    cat_features=cat_features,\n",
    "    eval_set=(X_test, y_test),\n",
    "#     logging_level='Verbose',  # you can uncomment this for text output\n",
    "    plot=True\n",
    ");"
   ]
  },
  {
   "cell_type": "code",
   "execution_count": 55,
   "id": "b621bfd0",
   "metadata": {},
   "outputs": [
    {
     "data": {
      "application/vnd.jupyter.widget-view+json": {
       "model_id": "c5997bcdf92f4e95947b94171997f613",
       "version_major": 2,
       "version_minor": 0
      },
      "text/plain": [
       "MetricVisualizer(layout=Layout(align_self='stretch', height='500px'))"
      ]
     },
     "metadata": {},
     "output_type": "display_data"
    }
   ],
   "source": [
    "cv_params = model.get_params()\n",
    "cv_params.update({\n",
    "    'loss_function': metrics.Logloss()\n",
    "})\n",
    "cv_data = cv(\n",
    "    Pool(X, y, cat_features=cat_features),\n",
    "    cv_params,\n",
    "    plot=True\n",
    ")"
   ]
  },
  {
   "cell_type": "code",
   "execution_count": 57,
   "id": "de93040b",
   "metadata": {},
   "outputs": [
    {
     "data": {
      "text/plain": [
       "0.9209660851731645"
      ]
     },
     "execution_count": 57,
     "metadata": {},
     "output_type": "execute_result"
    }
   ],
   "source": [
    "np.max(cv_data['test-F1-mean'])"
   ]
  },
  {
   "cell_type": "code",
   "execution_count": 103,
   "id": "56cc9ddb",
   "metadata": {},
   "outputs": [],
   "source": [
    "params = {\n",
    "    'eval_metric': metrics.F1(),\n",
    "    'random_seed': 0,\n",
    "    'logging_level': 'Silent',\n",
    "}\n",
    "\n",
    "train_pool = Pool(X_train, y_train, cat_features=cat_features)\n",
    "validate_pool = Pool(X_test, y_test, cat_features=cat_features)\n"
   ]
  },
  {
   "cell_type": "code",
   "execution_count": 77,
   "id": "33c1310f",
   "metadata": {},
   "outputs": [
    {
     "name": "stdout",
     "output_type": "stream",
     "text": [
      "Simple model validation F1: 0.9068\n",
      "\n",
      "Best model validation F1: 0.9136\n"
     ]
    }
   ],
   "source": [
    "model = CatBoostClassifier(**params)\n",
    "model.fit(train_pool, eval_set=validate_pool)\n",
    "\n",
    "best_model_params = params.copy()\n",
    "best_model_params.update({\n",
    "    'use_best_model': True\n",
    "})\n",
    "best_model = CatBoostClassifier(**best_model_params)\n",
    "best_model.fit(train_pool, eval_set=validate_pool);\n",
    "\n",
    "print('Simple model validation F1: {:.4}'.format(\n",
    "    f1_score(y_test, model.predict(X_test))\n",
    "))\n",
    "print('')\n",
    "\n",
    "print('Best model validation F1: {:.4}'.format(\n",
    "    f1_score(y_test, best_model.predict(X_test))\n",
    "))\n"
   ]
  },
  {
   "cell_type": "code",
   "execution_count": 105,
   "id": "8a849544",
   "metadata": {},
   "outputs": [],
   "source": [
    "model = CatBoostClassifier(**params)\n",
    "model.fit(train_pool, eval_set=validate_pool)"
   ]
  },
  {
   "cell_type": "code",
   "execution_count": 94,
   "id": "4d69cb63",
   "metadata": {},
   "outputs": [],
   "source": [
    "earlystop_params = params.copy()\n",
    "earlystop_params.update({\n",
    "    'use_best_model': True\n",
    "})\n",
    "earlystop_model = CatBoostClassifier(**earlystop_params)\n",
    "earlystop_model.fit(train_pool, eval_set=validate_pool);"
   ]
  },
  {
   "cell_type": "code",
   "execution_count": 95,
   "id": "9c4b174f",
   "metadata": {},
   "outputs": [
    {
     "name": "stdout",
     "output_type": "stream",
     "text": [
      "Simple model tree count: 665\n",
      "Simple model validation F1: 0.9137\n",
      "\n",
      "Early-stopped model tree count: 665\n",
      "Early-stopped model validation F1: 0.9137\n"
     ]
    }
   ],
   "source": [
    "print('Simple model tree count: {}'.format(model.tree_count_))\n",
    "print('Simple model validation F1: {:.4}'.format(\n",
    "    f1_score(y_test, model.predict(X_test))\n",
    "))\n",
    "print('')\n",
    "\n",
    "print('Early-stopped model tree count: {}'.format(earlystop_model.tree_count_))\n",
    "print('Early-stopped model validation F1: {:.4}'.format(\n",
    "    f1_score(y_test, earlystop_model.predict(X_test))\n",
    "))\n"
   ]
  },
  {
   "cell_type": "code",
   "execution_count": 106,
   "id": "d450b185",
   "metadata": {
    "scrolled": true
   },
   "outputs": [
    {
     "name": "stdout",
     "output_type": "stream",
     "text": [
      "0:\tloss: 0.9343434\tbest: 0.9343434 (0)\ttotal: 24.5s\tremaining: 11m 49s\n",
      "3:\tloss: 0.9343434\tbest: 0.9370277 (1)\ttotal: 1m 37s\tremaining: 10m 36s\n",
      "6:\tloss: 0.9312977\tbest: 0.9370277 (1)\ttotal: 2m 55s\tremaining: 9m 36s\n",
      "9:\tloss: 0.9343434\tbest: 0.9370277 (1)\ttotal: 4m 9s\tremaining: 8m 19s\n",
      "12:\tloss: 0.9323308\tbest: 0.9370277 (1)\ttotal: 5m 43s\tremaining: 7m 28s\n",
      "15:\tloss: 0.9319899\tbest: 0.9393939 (13)\ttotal: 7m 21s\tremaining: 6m 26s\n",
      "18:\tloss: 0.9343434\tbest: 0.9393939 (13)\ttotal: 9m 11s\tremaining: 5m 19s\n",
      "21:\tloss: 0.9238579\tbest: 0.9393939 (13)\ttotal: 11m 44s\tremaining: 4m 16s\n",
      "24:\tloss: 0.9262087\tbest: 0.9393939 (13)\ttotal: 14m 46s\tremaining: 2m 57s\n",
      "27:\tloss: 0.9246231\tbest: 0.9393939 (13)\ttotal: 17m 49s\tremaining: 1m 16s\n",
      "29:\tloss: 0.9282051\tbest: 0.9393939 (13)\ttotal: 19m 43s\tremaining: 0us\n",
      "Estimating final quality...\n"
     ]
    }
   ],
   "source": [
    "grid = {\n",
    "    'learning_rate': [0.03, 0.1],\n",
    "    'depth':[4, 6, 10],\n",
    "    'l2_leaf_reg': [1, 3, 5, 7, 9]\n",
    "}\n",
    "grid_results = model.grid_search(grid, train_pool, shuffle=False, verbose=3)"
   ]
  },
  {
   "cell_type": "code",
   "execution_count": 112,
   "id": "192b4894",
   "metadata": {},
   "outputs": [
    {
     "data": {
      "text/plain": [
       "{'random_seed': 0,\n",
       " 'logging_level': 'Silent',\n",
       " 'eval_metric': 'F1',\n",
       " 'depth': 6,\n",
       " 'l2_leaf_reg': 3,\n",
       " 'learning_rate': 0.1}"
      ]
     },
     "execution_count": 112,
     "metadata": {},
     "output_type": "execute_result"
    }
   ],
   "source": [
    "model.get_params()"
   ]
  },
  {
   "cell_type": "code",
   "execution_count": 110,
   "id": "e97a19ee",
   "metadata": {},
   "outputs": [
    {
     "name": "stdout",
     "output_type": "stream",
     "text": [
      "Accuracy : 0.9997 [TP / N] Proportion of predicted labels that match the true labels. Best: 1, Worst: 0\n",
      "Precision: 0.9991 [TP / (TP + FP)] Not to label a negative sample as positive.        Best: 1, Worst: 0\n",
      "Recall   : 0.9991 [TP / (TP + FN)] Find all the positive samples.                     Best: 1, Worst: 0\n",
      "ROC AUC  : 1.0000                                                                     Best: 1, Worst: < 0.5\n",
      "F1 Score : 0.9991\n",
      "-----------------------------------------------------------------------------------------------------------\n",
      "TP: True Positives, FP: False Positives, TN: True Negatives, FN: False Negatives, N: Number of samples\n"
     ]
    },
    {
     "data": {
      "image/png": "[encoded data removed]",
      "text/plain": [
       "<Figure size 1296x432 with 3 Axes>"
      ]
     },
     "metadata": {
      "needs_background": "light"
     },
     "output_type": "display_data"
    }
   ],
   "source": [
    "# Train Predictions\n",
    "y_train_pred = model.predict(X_train)\n",
    "y_train_prob = model.predict_proba(X_train)\n",
    "\n",
    "# Display Train Results\n",
    "show_summary_report(y_train, y_train_pred, y_train_prob)"
   ]
  },
  {
   "cell_type": "code",
   "execution_count": 111,
   "id": "bcde86ea",
   "metadata": {},
   "outputs": [
    {
     "name": "stdout",
     "output_type": "stream",
     "text": [
      "Accuracy : 0.9730 [TP / N] Proportion of predicted labels that match the true labels. Best: 1, Worst: 0\n",
      "Precision: 0.9491 [TP / (TP + FP)] Not to label a negative sample as positive.        Best: 1, Worst: 0\n",
      "Recall   : 0.8791 [TP / (TP + FN)] Find all the positive samples.                     Best: 1, Worst: 0\n",
      "ROC AUC  : 0.9939                                                                     Best: 1, Worst: < 0.5\n",
      "F1 Score : 0.9128\n",
      "-----------------------------------------------------------------------------------------------------------\n",
      "TP: True Positives, FP: False Positives, TN: True Negatives, FN: False Negatives, N: Number of samples\n"
     ]
    },
    {
     "data": {
      "image/png": "[encoded data removed]",
      "text/plain": [
       "<Figure size 1296x432 with 3 Axes>"
      ]
     },
     "metadata": {
      "needs_background": "light"
     },
     "output_type": "display_data"
    }
   ],
   "source": [
    "# Test Predictions\n",
    "y_test_pred = model.predict(X_test)\n",
    "y_test_prob = model.predict_proba(X_test)\n",
    "\n",
    "# Display Test Results\n",
    "show_summary_report(y_test, y_test_pred, y_test_prob)"
   ]
  }
 ],
 "metadata": {
  "kernelspec": {
   "display_name": "Python 3 (ipykernel)",
   "language": "python",
   "name": "python3"
  },
  "language_info": {
   "codemirror_mode": {
    "name": "ipython",
    "version": 3
   },
   "file_extension": ".py",
   "mimetype": "text/x-python",
   "name": "python",
   "nbconvert_exporter": "python",
   "pygments_lexer": "ipython3",
   "version": "3.8.8"
  }
 },
 "nbformat": 4,
 "nbformat_minor": 5
}
