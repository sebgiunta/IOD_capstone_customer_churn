{
 "cells": [
  {
   "cell_type": "markdown",
   "id": "603ff7d2-9ff8-4a95-991c-d5c40af9f142",
   "metadata": {
    "tags": []
   },
   "source": [
    "# Institute of Data - Capstone Project - Customer Churn\n",
    "\n",
    "## Table of Contents\n",
    "<ul>\n",
    "    <li><a href=\"#introduction\">Introduction</a></li>\n",
    "    <li><a href=\"#data_wrangling\">Data Wrangling</a></li>\n",
    "    <li><a href=\"#exploratory\">Exploratory Data Analysis</a></li>\n",
    "    <li><a href=\"#modeling\">Modeling</a></li>\n",
    "    <li><a href=\"#conclusion\">Conclusion</a></li>\n",
    "</ul>"
   ]
  },
  {
   "cell_type": "markdown",
   "id": "03260b4e-4ca9-430b-b9c4-ba9845d256b9",
   "metadata": {},
   "source": [
    "## Introduction <a id='introduction'></a>"
   ]
  },
  {
   "cell_type": "code",
   "execution_count": 2,
   "id": "1f6d668e-4a41-4c76-a35f-550460d06dd5",
   "metadata": {},
   "outputs": [],
   "source": [
    "# Import Modules\n",
    "\n",
    "import pandas as pd\n",
    "import numpy as np\n",
    "\n",
    "import matplotlib.pyplot as plt\n",
    "import seaborn as sns\n",
    "\n",
    "# Show plots inline\n",
    "%matplotlib inline"
   ]
  },
  {
   "cell_type": "markdown",
   "id": "1684ddfa-3d9a-4b78-95d6-4f2c2ae731c0",
   "metadata": {},
   "source": [
    "## Data Wrangling <a id='data_wrangling'></a>"
   ]
  },
  {
   "cell_type": "markdown",
   "id": "6b8a735e-701d-4050-8bc4-38c9372fb482",
   "metadata": {},
   "source": [
    "## Exploratory Data Analysis <a id='exploratory'></a>"
   ]
  },
  {
   "cell_type": "markdown",
   "id": "dc36163a-8926-4a58-a781-9b4af07ff455",
   "metadata": {},
   "source": [
    "## Modeling <a id='modeling'></a>"
   ]
  },
  {
   "cell_type": "markdown",
   "id": "94df878b-dfd7-4555-b4ef-2a2ea60351d2",
   "metadata": {},
   "source": [
    "## Conclusion <a id='conclusion'></a>"
   ]
  }
 ],
 "metadata": {
  "kernelspec": {
   "display_name": "Python 3 (ipykernel)",
   "language": "python",
   "name": "python3"
  },
  "language_info": {
   "codemirror_mode": {
    "name": "ipython",
    "version": 3
   },
   "file_extension": ".py",
   "mimetype": "text/x-python",
   "name": "python",
   "nbconvert_exporter": "python",
   "pygments_lexer": "ipython3",
   "version": "3.8.8"
  }
 },
 "nbformat": 4,
 "nbformat_minor": 5
}
