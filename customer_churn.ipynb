{
 "cells": [
  {
   "cell_type": "markdown",
   "id": "603ff7d2-9ff8-4a95-991c-d5c40af9f142",
   "metadata": {
    "tags": []
   },
   "source": [
    "# Institute of Data - Capstone Project - Customer Churn\n",
    "\n",
    "## Table of Contents\n",
    "<ul>\n",
    "    <li><a href=\"#introduction\">Introduction</a></li>\n",
    "    <li><a href=\"#data_wrangling\">Data Wrangling</a></li>\n",
    "    <ul>\n",
    "        <li><a href=\"#data_dictionary\">Data Dictionary</a></li>\n",
    "    </ul>\n",
    "    <li><a href=\"#exploratory\">Exploratory Data Analysis</a></li>\n",
    "    <ul>\n",
    "        <li><a href=\"#numerical_eda\">Numerical EDA</a></li>\n",
    "    </ul>\n",
    "    <li><a href=\"#modeling\">Modeling</a></li>\n",
    "    <li><a href=\"#conclusion\">Conclusion</a></li>\n",
    "</ul>"
   ]
  },
  {
   "cell_type": "markdown",
   "id": "03260b4e-4ca9-430b-b9c4-ba9845d256b9",
   "metadata": {},
   "source": [
    "## Introduction <a id='introduction'></a>"
   ]
  },
  {
   "cell_type": "code",
   "execution_count": 1,
   "id": "1f6d668e-4a41-4c76-a35f-550460d06dd5",
   "metadata": {},
   "outputs": [],
   "source": [
    "# Import Modules\n",
    "\n",
    "import pandas as pd\n",
    "import numpy as np\n",
    "\n",
    "import matplotlib.pyplot as plt\n",
    "import seaborn as sns\n",
    "\n",
    "from sklearn.preprocessing import OrdinalEncoder\n",
    "\n",
    "import helpers\n",
    "import custom_code\n",
    "\n",
    "# Show plots inline\n",
    "%matplotlib inline\n",
    "\n",
    "# Set max rows and columns\n",
    "pd.set_option('display.max_columns', None)\n",
    "pd.set_option('display.max_rows', None)\n",
    "\n",
    "# Plot Styling\n",
    "sns.set(style='darkgrid')"
   ]
  },
  {
   "cell_type": "markdown",
   "id": "1684ddfa-3d9a-4b78-95d6-4f2c2ae731c0",
   "metadata": {},
   "source": [
    "## Data Wrangling <a id='data_wrangling'></a>"
   ]
  },
  {
   "cell_type": "code",
   "execution_count": 2,
   "id": "5388830d-bfa5-49a0-b3e8-3f8b90e86980",
   "metadata": {
    "scrolled": true
   },
   "outputs": [
    {
     "data": {
      "text/html": [
       "<div>\n",
       "<style scoped>\n",
       "    .dataframe tbody tr th:only-of-type {\n",
       "        vertical-align: middle;\n",
       "    }\n",
       "\n",
       "    .dataframe tbody tr th {\n",
       "        vertical-align: top;\n",
       "    }\n",
       "\n",
       "    .dataframe thead th {\n",
       "        text-align: right;\n",
       "    }\n",
       "</style>\n",
       "<table border=\"1\" class=\"dataframe\">\n",
       "  <thead>\n",
       "    <tr style=\"text-align: right;\">\n",
       "      <th></th>\n",
       "      <th>CLIENTNUM</th>\n",
       "      <th>Attrition_Flag</th>\n",
       "      <th>Customer_Age</th>\n",
       "      <th>Gender</th>\n",
       "      <th>Dependent_count</th>\n",
       "      <th>Education_Level</th>\n",
       "      <th>Marital_Status</th>\n",
       "      <th>Income_Category</th>\n",
       "      <th>Card_Category</th>\n",
       "      <th>Months_on_book</th>\n",
       "      <th>Total_Relationship_Count</th>\n",
       "      <th>Months_Inactive_12_mon</th>\n",
       "      <th>Contacts_Count_12_mon</th>\n",
       "      <th>Credit_Limit</th>\n",
       "      <th>Total_Revolving_Bal</th>\n",
       "      <th>Avg_Open_To_Buy</th>\n",
       "      <th>Total_Amt_Chng_Q4_Q1</th>\n",
       "      <th>Total_Trans_Amt</th>\n",
       "      <th>Total_Trans_Ct</th>\n",
       "      <th>Total_Ct_Chng_Q4_Q1</th>\n",
       "      <th>Avg_Utilization_Ratio</th>\n",
       "      <th>Naive_Bayes_Classifier_Attrition_Flag_Card_Category_Contacts_Count_12_mon_Dependent_count_Education_Level_Months_Inactive_12_mon_1</th>\n",
       "      <th>Naive_Bayes_Classifier_Attrition_Flag_Card_Category_Contacts_Count_12_mon_Dependent_count_Education_Level_Months_Inactive_12_mon_2</th>\n",
       "    </tr>\n",
       "  </thead>\n",
       "  <tbody>\n",
       "    <tr>\n",
       "      <th>0</th>\n",
       "      <td>768805383</td>\n",
       "      <td>Existing Customer</td>\n",
       "      <td>45</td>\n",
       "      <td>M</td>\n",
       "      <td>3</td>\n",
       "      <td>High School</td>\n",
       "      <td>Married</td>\n",
       "      <td>$60K - $80K</td>\n",
       "      <td>Blue</td>\n",
       "      <td>39</td>\n",
       "      <td>5</td>\n",
       "      <td>1</td>\n",
       "      <td>3</td>\n",
       "      <td>12691.0</td>\n",
       "      <td>777</td>\n",
       "      <td>11914.0</td>\n",
       "      <td>1.335</td>\n",
       "      <td>1144</td>\n",
       "      <td>42</td>\n",
       "      <td>1.625</td>\n",
       "      <td>0.061</td>\n",
       "      <td>0.000093</td>\n",
       "      <td>0.99991</td>\n",
       "    </tr>\n",
       "    <tr>\n",
       "      <th>1</th>\n",
       "      <td>818770008</td>\n",
       "      <td>Existing Customer</td>\n",
       "      <td>49</td>\n",
       "      <td>F</td>\n",
       "      <td>5</td>\n",
       "      <td>Graduate</td>\n",
       "      <td>Single</td>\n",
       "      <td>Less than $40K</td>\n",
       "      <td>Blue</td>\n",
       "      <td>44</td>\n",
       "      <td>6</td>\n",
       "      <td>1</td>\n",
       "      <td>2</td>\n",
       "      <td>8256.0</td>\n",
       "      <td>864</td>\n",
       "      <td>7392.0</td>\n",
       "      <td>1.541</td>\n",
       "      <td>1291</td>\n",
       "      <td>33</td>\n",
       "      <td>3.714</td>\n",
       "      <td>0.105</td>\n",
       "      <td>0.000057</td>\n",
       "      <td>0.99994</td>\n",
       "    </tr>\n",
       "    <tr>\n",
       "      <th>2</th>\n",
       "      <td>713982108</td>\n",
       "      <td>Existing Customer</td>\n",
       "      <td>51</td>\n",
       "      <td>M</td>\n",
       "      <td>3</td>\n",
       "      <td>Graduate</td>\n",
       "      <td>Married</td>\n",
       "      <td>$80K - $120K</td>\n",
       "      <td>Blue</td>\n",
       "      <td>36</td>\n",
       "      <td>4</td>\n",
       "      <td>1</td>\n",
       "      <td>0</td>\n",
       "      <td>3418.0</td>\n",
       "      <td>0</td>\n",
       "      <td>3418.0</td>\n",
       "      <td>2.594</td>\n",
       "      <td>1887</td>\n",
       "      <td>20</td>\n",
       "      <td>2.333</td>\n",
       "      <td>0.000</td>\n",
       "      <td>0.000021</td>\n",
       "      <td>0.99998</td>\n",
       "    </tr>\n",
       "    <tr>\n",
       "      <th>3</th>\n",
       "      <td>769911858</td>\n",
       "      <td>Existing Customer</td>\n",
       "      <td>40</td>\n",
       "      <td>F</td>\n",
       "      <td>4</td>\n",
       "      <td>High School</td>\n",
       "      <td>Unknown</td>\n",
       "      <td>Less than $40K</td>\n",
       "      <td>Blue</td>\n",
       "      <td>34</td>\n",
       "      <td>3</td>\n",
       "      <td>4</td>\n",
       "      <td>1</td>\n",
       "      <td>3313.0</td>\n",
       "      <td>2517</td>\n",
       "      <td>796.0</td>\n",
       "      <td>1.405</td>\n",
       "      <td>1171</td>\n",
       "      <td>20</td>\n",
       "      <td>2.333</td>\n",
       "      <td>0.760</td>\n",
       "      <td>0.000134</td>\n",
       "      <td>0.99987</td>\n",
       "    </tr>\n",
       "    <tr>\n",
       "      <th>4</th>\n",
       "      <td>709106358</td>\n",
       "      <td>Existing Customer</td>\n",
       "      <td>40</td>\n",
       "      <td>M</td>\n",
       "      <td>3</td>\n",
       "      <td>Uneducated</td>\n",
       "      <td>Married</td>\n",
       "      <td>$60K - $80K</td>\n",
       "      <td>Blue</td>\n",
       "      <td>21</td>\n",
       "      <td>5</td>\n",
       "      <td>1</td>\n",
       "      <td>0</td>\n",
       "      <td>4716.0</td>\n",
       "      <td>0</td>\n",
       "      <td>4716.0</td>\n",
       "      <td>2.175</td>\n",
       "      <td>816</td>\n",
       "      <td>28</td>\n",
       "      <td>2.500</td>\n",
       "      <td>0.000</td>\n",
       "      <td>0.000022</td>\n",
       "      <td>0.99998</td>\n",
       "    </tr>\n",
       "  </tbody>\n",
       "</table>\n",
       "</div>"
      ],
      "text/plain": [
       "   CLIENTNUM     Attrition_Flag  Customer_Age Gender  Dependent_count  \\\n",
       "0  768805383  Existing Customer            45      M                3   \n",
       "1  818770008  Existing Customer            49      F                5   \n",
       "2  713982108  Existing Customer            51      M                3   \n",
       "3  769911858  Existing Customer            40      F                4   \n",
       "4  709106358  Existing Customer            40      M                3   \n",
       "\n",
       "  Education_Level Marital_Status Income_Category Card_Category  \\\n",
       "0     High School        Married     $60K - $80K          Blue   \n",
       "1        Graduate         Single  Less than $40K          Blue   \n",
       "2        Graduate        Married    $80K - $120K          Blue   \n",
       "3     High School        Unknown  Less than $40K          Blue   \n",
       "4      Uneducated        Married     $60K - $80K          Blue   \n",
       "\n",
       "   Months_on_book  Total_Relationship_Count  Months_Inactive_12_mon  \\\n",
       "0              39                         5                       1   \n",
       "1              44                         6                       1   \n",
       "2              36                         4                       1   \n",
       "3              34                         3                       4   \n",
       "4              21                         5                       1   \n",
       "\n",
       "   Contacts_Count_12_mon  Credit_Limit  Total_Revolving_Bal  Avg_Open_To_Buy  \\\n",
       "0                      3       12691.0                  777          11914.0   \n",
       "1                      2        8256.0                  864           7392.0   \n",
       "2                      0        3418.0                    0           3418.0   \n",
       "3                      1        3313.0                 2517            796.0   \n",
       "4                      0        4716.0                    0           4716.0   \n",
       "\n",
       "   Total_Amt_Chng_Q4_Q1  Total_Trans_Amt  Total_Trans_Ct  Total_Ct_Chng_Q4_Q1  \\\n",
       "0                 1.335             1144              42                1.625   \n",
       "1                 1.541             1291              33                3.714   \n",
       "2                 2.594             1887              20                2.333   \n",
       "3                 1.405             1171              20                2.333   \n",
       "4                 2.175              816              28                2.500   \n",
       "\n",
       "   Avg_Utilization_Ratio  \\\n",
       "0                  0.061   \n",
       "1                  0.105   \n",
       "2                  0.000   \n",
       "3                  0.760   \n",
       "4                  0.000   \n",
       "\n",
       "   Naive_Bayes_Classifier_Attrition_Flag_Card_Category_Contacts_Count_12_mon_Dependent_count_Education_Level_Months_Inactive_12_mon_1  \\\n",
       "0                                           0.000093                                                                                    \n",
       "1                                           0.000057                                                                                    \n",
       "2                                           0.000021                                                                                    \n",
       "3                                           0.000134                                                                                    \n",
       "4                                           0.000022                                                                                    \n",
       "\n",
       "   Naive_Bayes_Classifier_Attrition_Flag_Card_Category_Contacts_Count_12_mon_Dependent_count_Education_Level_Months_Inactive_12_mon_2  \n",
       "0                                            0.99991                                                                                   \n",
       "1                                            0.99994                                                                                   \n",
       "2                                            0.99998                                                                                   \n",
       "3                                            0.99987                                                                                   \n",
       "4                                            0.99998                                                                                   "
      ]
     },
     "execution_count": 2,
     "metadata": {},
     "output_type": "execute_result"
    }
   ],
   "source": [
    "# Import Data\n",
    "\n",
    "df = pd.read_csv('dataset/BankChurners.csv')\n",
    "\n",
    "# Explore Head\n",
    "\n",
    "df.head()"
   ]
  },
  {
   "cell_type": "code",
   "execution_count": 3,
   "id": "22e22c33-ae83-4a93-b5da-fc2fa7bf0b18",
   "metadata": {},
   "outputs": [
    {
     "data": {
      "text/plain": [
       "(10127, 23)"
      ]
     },
     "execution_count": 3,
     "metadata": {},
     "output_type": "execute_result"
    }
   ],
   "source": [
    "# Shape\n",
    "\n",
    "df.shape"
   ]
  },
  {
   "cell_type": "markdown",
   "id": "3127ca82-8815-4321-861d-df256ad73964",
   "metadata": {},
   "source": [
    "Dataset contains 10,127 rows and 23 columns. Let's explore the columns further below."
   ]
  },
  {
   "cell_type": "code",
   "execution_count": 4,
   "id": "c2a7b916-7738-42fb-832c-4e60a20f55e2",
   "metadata": {
    "scrolled": true
   },
   "outputs": [
    {
     "data": {
      "text/plain": [
       "Index(['CLIENTNUM', 'Attrition_Flag', 'Customer_Age', 'Gender',\n",
       "       'Dependent_count', 'Education_Level', 'Marital_Status',\n",
       "       'Income_Category', 'Card_Category', 'Months_on_book',\n",
       "       'Total_Relationship_Count', 'Months_Inactive_12_mon',\n",
       "       'Contacts_Count_12_mon', 'Credit_Limit', 'Total_Revolving_Bal',\n",
       "       'Avg_Open_To_Buy', 'Total_Amt_Chng_Q4_Q1', 'Total_Trans_Amt',\n",
       "       'Total_Trans_Ct', 'Total_Ct_Chng_Q4_Q1', 'Avg_Utilization_Ratio',\n",
       "       'Naive_Bayes_Classifier_Attrition_Flag_Card_Category_Contacts_Count_12_mon_Dependent_count_Education_Level_Months_Inactive_12_mon_1',\n",
       "       'Naive_Bayes_Classifier_Attrition_Flag_Card_Category_Contacts_Count_12_mon_Dependent_count_Education_Level_Months_Inactive_12_mon_2'],\n",
       "      dtype='object')"
      ]
     },
     "execution_count": 4,
     "metadata": {},
     "output_type": "execute_result"
    }
   ],
   "source": [
    "# Check Columns\n",
    "\n",
    "df.columns"
   ]
  },
  {
   "cell_type": "markdown",
   "id": "01f6f9e1-2842-40ff-b1c9-a685c70e2bf2",
   "metadata": {
    "tags": []
   },
   "source": [
    "### Data Dictionary <a id='data_dictionary'></a>\n",
    "\n",
    "- **Attrition_Flag**: Flag to show whether the client is current or has closed accounts with the bank\n",
    "- **Customer_Age**: Customer Age in years\n",
    "- **Gender**: M = Male, F = Female\n",
    "- **Dependent_count**: Number of dependents the customer has\n",
    "- **Education_Level**: Highest educational attainment of customer\n",
    "- **Marital_Status**: Marital Status (Married/Single/Divorced/Unknown)\n",
    "- **Income_Category**: Annual income category the customer falls in\n",
    "- **Card_Category**: Type of card held (Blue, Silver, Gold, Platnium)\n",
    "- **Months_on_book**: Period of relationship with bank\n",
    "- **Total_Relationship_Count**: Number of products held by customer\n",
    "- **Months_Inactive_12_mon**: Number of inactive months in the past 12 months\n",
    "- **Contacts_Count_12_mon**: Number of times contacted in the last 12 months\n",
    "- **Credit_Limit**: Credit limit on customers credit card\n",
    "- **Total_Revolving_Bal**: Total revolving balance on the credit card\n",
    "- **Avg_Open_To_Buy**: Open to buy credit line (average of last 12 months)\n",
    "- **Total_Amt_Chng_Q4_Q1**: Change in transaction amount (Q4 over Q1)\n",
    "- **Total_Trans_Amt**: Total transaction amount (last 12 months)\n",
    "- **Total_Trans_Ct**: Number of transactions (last 12 months)\n",
    "- **Total_Ct_Chng_Q4_Q1**: Change in transaction count (Q4 over Q1)\n",
    "- **Avg_Utilization_Ratio**: Average caard utilisation ratio"
   ]
  },
  {
   "cell_type": "markdown",
   "id": "57698651-fe87-414f-bb65-b3fe18995833",
   "metadata": {},
   "source": [
    "We have a good amount of information related to the customers in this dataset, that may have an impact as to whether or not the customer will churn from the bank. The target variable for this analysis is *Attrition_Flag*, where we'll be coding 1 to represent a customer that has churned, and 0 to represent the converse.\n",
    "\n",
    "The last 2 columns of this dataset should be ignored and will be dropped. We'll also drop the CLIENTNUM column as it serves no purpose in the analysis we're going to do."
   ]
  },
  {
   "cell_type": "code",
   "execution_count": 5,
   "id": "7bd4a6a5-283b-4bef-86cd-4a3dd5ca8cbe",
   "metadata": {
    "scrolled": true
   },
   "outputs": [
    {
     "data": {
      "text/plain": [
       "Index(['Attrition_Flag', 'Customer_Age', 'Gender', 'Dependent_count',\n",
       "       'Education_Level', 'Marital_Status', 'Income_Category', 'Card_Category',\n",
       "       'Months_on_book', 'Total_Relationship_Count', 'Months_Inactive_12_mon',\n",
       "       'Contacts_Count_12_mon', 'Credit_Limit', 'Total_Revolving_Bal',\n",
       "       'Avg_Open_To_Buy', 'Total_Amt_Chng_Q4_Q1', 'Total_Trans_Amt',\n",
       "       'Total_Trans_Ct', 'Total_Ct_Chng_Q4_Q1', 'Avg_Utilization_Ratio'],\n",
       "      dtype='object')"
      ]
     },
     "execution_count": 5,
     "metadata": {},
     "output_type": "execute_result"
    }
   ],
   "source": [
    "# Drop columns that aren't needed\n",
    "\n",
    "df.drop(df.columns[[0, 21, 22]], axis=1, inplace=True)\n",
    "\n",
    "# Check output\n",
    "\n",
    "df.columns"
   ]
  },
  {
   "cell_type": "code",
   "execution_count": 6,
   "id": "2c804e2f-88b0-4030-91da-d9a00049585a",
   "metadata": {
    "scrolled": true
   },
   "outputs": [
    {
     "name": "stdout",
     "output_type": "stream",
     "text": [
      "<class 'pandas.core.frame.DataFrame'>\n",
      "RangeIndex: 10127 entries, 0 to 10126\n",
      "Data columns (total 20 columns):\n",
      " #   Column                    Non-Null Count  Dtype  \n",
      "---  ------                    --------------  -----  \n",
      " 0   Attrition_Flag            10127 non-null  object \n",
      " 1   Customer_Age              10127 non-null  int64  \n",
      " 2   Gender                    10127 non-null  object \n",
      " 3   Dependent_count           10127 non-null  int64  \n",
      " 4   Education_Level           10127 non-null  object \n",
      " 5   Marital_Status            10127 non-null  object \n",
      " 6   Income_Category           10127 non-null  object \n",
      " 7   Card_Category             10127 non-null  object \n",
      " 8   Months_on_book            10127 non-null  int64  \n",
      " 9   Total_Relationship_Count  10127 non-null  int64  \n",
      " 10  Months_Inactive_12_mon    10127 non-null  int64  \n",
      " 11  Contacts_Count_12_mon     10127 non-null  int64  \n",
      " 12  Credit_Limit              10127 non-null  float64\n",
      " 13  Total_Revolving_Bal       10127 non-null  int64  \n",
      " 14  Avg_Open_To_Buy           10127 non-null  float64\n",
      " 15  Total_Amt_Chng_Q4_Q1      10127 non-null  float64\n",
      " 16  Total_Trans_Amt           10127 non-null  int64  \n",
      " 17  Total_Trans_Ct            10127 non-null  int64  \n",
      " 18  Total_Ct_Chng_Q4_Q1       10127 non-null  float64\n",
      " 19  Avg_Utilization_Ratio     10127 non-null  float64\n",
      "dtypes: float64(5), int64(9), object(6)\n",
      "memory usage: 1.5+ MB\n"
     ]
    }
   ],
   "source": [
    "# Info\n",
    "\n",
    "df.info()"
   ]
  },
  {
   "cell_type": "markdown",
   "id": "f106b669-b02c-4cfe-b05d-b4353b0a44ed",
   "metadata": {},
   "source": [
    "We don't have any null values in this dataset, though we'll need to check if there are any values that appear incorrect. For example a value of 0 in Age would be an incorrect value.\n",
    "\n",
    "In terms of data types, all variables are correctly classified."
   ]
  },
  {
   "cell_type": "code",
   "execution_count": 7,
   "id": "e8d2a7ee-9d62-4f98-9824-f5da4faab87e",
   "metadata": {
    "scrolled": true
   },
   "outputs": [
    {
     "data": {
      "text/html": [
       "<div>\n",
       "<style scoped>\n",
       "    .dataframe tbody tr th:only-of-type {\n",
       "        vertical-align: middle;\n",
       "    }\n",
       "\n",
       "    .dataframe tbody tr th {\n",
       "        vertical-align: top;\n",
       "    }\n",
       "\n",
       "    .dataframe thead th {\n",
       "        text-align: right;\n",
       "    }\n",
       "</style>\n",
       "<table border=\"1\" class=\"dataframe\">\n",
       "  <thead>\n",
       "    <tr style=\"text-align: right;\">\n",
       "      <th></th>\n",
       "      <th>count</th>\n",
       "      <th>mean</th>\n",
       "      <th>std</th>\n",
       "      <th>min</th>\n",
       "      <th>25%</th>\n",
       "      <th>50%</th>\n",
       "      <th>75%</th>\n",
       "      <th>max</th>\n",
       "    </tr>\n",
       "  </thead>\n",
       "  <tbody>\n",
       "    <tr>\n",
       "      <th>Customer_Age</th>\n",
       "      <td>10127.0</td>\n",
       "      <td>46.325960</td>\n",
       "      <td>8.016814</td>\n",
       "      <td>26.0</td>\n",
       "      <td>41.000</td>\n",
       "      <td>46.000</td>\n",
       "      <td>52.000</td>\n",
       "      <td>73.000</td>\n",
       "    </tr>\n",
       "    <tr>\n",
       "      <th>Dependent_count</th>\n",
       "      <td>10127.0</td>\n",
       "      <td>2.346203</td>\n",
       "      <td>1.298908</td>\n",
       "      <td>0.0</td>\n",
       "      <td>1.000</td>\n",
       "      <td>2.000</td>\n",
       "      <td>3.000</td>\n",
       "      <td>5.000</td>\n",
       "    </tr>\n",
       "    <tr>\n",
       "      <th>Months_on_book</th>\n",
       "      <td>10127.0</td>\n",
       "      <td>35.928409</td>\n",
       "      <td>7.986416</td>\n",
       "      <td>13.0</td>\n",
       "      <td>31.000</td>\n",
       "      <td>36.000</td>\n",
       "      <td>40.000</td>\n",
       "      <td>56.000</td>\n",
       "    </tr>\n",
       "    <tr>\n",
       "      <th>Total_Relationship_Count</th>\n",
       "      <td>10127.0</td>\n",
       "      <td>3.812580</td>\n",
       "      <td>1.554408</td>\n",
       "      <td>1.0</td>\n",
       "      <td>3.000</td>\n",
       "      <td>4.000</td>\n",
       "      <td>5.000</td>\n",
       "      <td>6.000</td>\n",
       "    </tr>\n",
       "    <tr>\n",
       "      <th>Months_Inactive_12_mon</th>\n",
       "      <td>10127.0</td>\n",
       "      <td>2.341167</td>\n",
       "      <td>1.010622</td>\n",
       "      <td>0.0</td>\n",
       "      <td>2.000</td>\n",
       "      <td>2.000</td>\n",
       "      <td>3.000</td>\n",
       "      <td>6.000</td>\n",
       "    </tr>\n",
       "    <tr>\n",
       "      <th>Contacts_Count_12_mon</th>\n",
       "      <td>10127.0</td>\n",
       "      <td>2.455317</td>\n",
       "      <td>1.106225</td>\n",
       "      <td>0.0</td>\n",
       "      <td>2.000</td>\n",
       "      <td>2.000</td>\n",
       "      <td>3.000</td>\n",
       "      <td>6.000</td>\n",
       "    </tr>\n",
       "    <tr>\n",
       "      <th>Credit_Limit</th>\n",
       "      <td>10127.0</td>\n",
       "      <td>8631.953698</td>\n",
       "      <td>9088.776650</td>\n",
       "      <td>1438.3</td>\n",
       "      <td>2555.000</td>\n",
       "      <td>4549.000</td>\n",
       "      <td>11067.500</td>\n",
       "      <td>34516.000</td>\n",
       "    </tr>\n",
       "    <tr>\n",
       "      <th>Total_Revolving_Bal</th>\n",
       "      <td>10127.0</td>\n",
       "      <td>1162.814061</td>\n",
       "      <td>814.987335</td>\n",
       "      <td>0.0</td>\n",
       "      <td>359.000</td>\n",
       "      <td>1276.000</td>\n",
       "      <td>1784.000</td>\n",
       "      <td>2517.000</td>\n",
       "    </tr>\n",
       "    <tr>\n",
       "      <th>Avg_Open_To_Buy</th>\n",
       "      <td>10127.0</td>\n",
       "      <td>7469.139637</td>\n",
       "      <td>9090.685324</td>\n",
       "      <td>3.0</td>\n",
       "      <td>1324.500</td>\n",
       "      <td>3474.000</td>\n",
       "      <td>9859.000</td>\n",
       "      <td>34516.000</td>\n",
       "    </tr>\n",
       "    <tr>\n",
       "      <th>Total_Amt_Chng_Q4_Q1</th>\n",
       "      <td>10127.0</td>\n",
       "      <td>0.759941</td>\n",
       "      <td>0.219207</td>\n",
       "      <td>0.0</td>\n",
       "      <td>0.631</td>\n",
       "      <td>0.736</td>\n",
       "      <td>0.859</td>\n",
       "      <td>3.397</td>\n",
       "    </tr>\n",
       "    <tr>\n",
       "      <th>Total_Trans_Amt</th>\n",
       "      <td>10127.0</td>\n",
       "      <td>4404.086304</td>\n",
       "      <td>3397.129254</td>\n",
       "      <td>510.0</td>\n",
       "      <td>2155.500</td>\n",
       "      <td>3899.000</td>\n",
       "      <td>4741.000</td>\n",
       "      <td>18484.000</td>\n",
       "    </tr>\n",
       "    <tr>\n",
       "      <th>Total_Trans_Ct</th>\n",
       "      <td>10127.0</td>\n",
       "      <td>64.858695</td>\n",
       "      <td>23.472570</td>\n",
       "      <td>10.0</td>\n",
       "      <td>45.000</td>\n",
       "      <td>67.000</td>\n",
       "      <td>81.000</td>\n",
       "      <td>139.000</td>\n",
       "    </tr>\n",
       "    <tr>\n",
       "      <th>Total_Ct_Chng_Q4_Q1</th>\n",
       "      <td>10127.0</td>\n",
       "      <td>0.712222</td>\n",
       "      <td>0.238086</td>\n",
       "      <td>0.0</td>\n",
       "      <td>0.582</td>\n",
       "      <td>0.702</td>\n",
       "      <td>0.818</td>\n",
       "      <td>3.714</td>\n",
       "    </tr>\n",
       "    <tr>\n",
       "      <th>Avg_Utilization_Ratio</th>\n",
       "      <td>10127.0</td>\n",
       "      <td>0.274894</td>\n",
       "      <td>0.275691</td>\n",
       "      <td>0.0</td>\n",
       "      <td>0.023</td>\n",
       "      <td>0.176</td>\n",
       "      <td>0.503</td>\n",
       "      <td>0.999</td>\n",
       "    </tr>\n",
       "  </tbody>\n",
       "</table>\n",
       "</div>"
      ],
      "text/plain": [
       "                            count         mean          std     min       25%  \\\n",
       "Customer_Age              10127.0    46.325960     8.016814    26.0    41.000   \n",
       "Dependent_count           10127.0     2.346203     1.298908     0.0     1.000   \n",
       "Months_on_book            10127.0    35.928409     7.986416    13.0    31.000   \n",
       "Total_Relationship_Count  10127.0     3.812580     1.554408     1.0     3.000   \n",
       "Months_Inactive_12_mon    10127.0     2.341167     1.010622     0.0     2.000   \n",
       "Contacts_Count_12_mon     10127.0     2.455317     1.106225     0.0     2.000   \n",
       "Credit_Limit              10127.0  8631.953698  9088.776650  1438.3  2555.000   \n",
       "Total_Revolving_Bal       10127.0  1162.814061   814.987335     0.0   359.000   \n",
       "Avg_Open_To_Buy           10127.0  7469.139637  9090.685324     3.0  1324.500   \n",
       "Total_Amt_Chng_Q4_Q1      10127.0     0.759941     0.219207     0.0     0.631   \n",
       "Total_Trans_Amt           10127.0  4404.086304  3397.129254   510.0  2155.500   \n",
       "Total_Trans_Ct            10127.0    64.858695    23.472570    10.0    45.000   \n",
       "Total_Ct_Chng_Q4_Q1       10127.0     0.712222     0.238086     0.0     0.582   \n",
       "Avg_Utilization_Ratio     10127.0     0.274894     0.275691     0.0     0.023   \n",
       "\n",
       "                               50%        75%        max  \n",
       "Customer_Age                46.000     52.000     73.000  \n",
       "Dependent_count              2.000      3.000      5.000  \n",
       "Months_on_book              36.000     40.000     56.000  \n",
       "Total_Relationship_Count     4.000      5.000      6.000  \n",
       "Months_Inactive_12_mon       2.000      3.000      6.000  \n",
       "Contacts_Count_12_mon        2.000      3.000      6.000  \n",
       "Credit_Limit              4549.000  11067.500  34516.000  \n",
       "Total_Revolving_Bal       1276.000   1784.000   2517.000  \n",
       "Avg_Open_To_Buy           3474.000   9859.000  34516.000  \n",
       "Total_Amt_Chng_Q4_Q1         0.736      0.859      3.397  \n",
       "Total_Trans_Amt           3899.000   4741.000  18484.000  \n",
       "Total_Trans_Ct              67.000     81.000    139.000  \n",
       "Total_Ct_Chng_Q4_Q1          0.702      0.818      3.714  \n",
       "Avg_Utilization_Ratio        0.176      0.503      0.999  "
      ]
     },
     "execution_count": 7,
     "metadata": {},
     "output_type": "execute_result"
    }
   ],
   "source": [
    "# Describe\n",
    "\n",
    "df.describe().T"
   ]
  },
  {
   "cell_type": "markdown",
   "id": "9be3808a-d16a-431f-b99e-050fac569ad4",
   "metadata": {},
   "source": [
    "Reviewing the above table, it appears as though we don't have any unexpected values in each column. The min and max values of each column seem reasonable.\n",
    "\n",
    "Unfortunately we have limited information on exactly what some of the columns mean. For example the 'Avg_Open_To_Buy' column is quite ambiguious in it's definition provided upon sourcing the dataset.\n",
    "\n",
    "We have a good amount of numeric variables to explore the relationship between, such as:\n",
    "\n",
    "- Do customers with higher credit limits, tend to utilise their card more?\n",
    "- Do customers with higher credit limits, tend to have a higher number of transactions?\n",
    "- Do customers with higher number of dependents, tend to have higher number of transactions?\n",
    "\n",
    "This information may be useful in better understanding our customers spending habits, to assist in developing a marketing strategy to reduce customer churn.\n",
    "\n",
    "Potentially some useful new columns to engineer:\n",
    "- Transaction Amount as a proportion of Credit Limit\n",
    "- Credit limit per dependent"
   ]
  },
  {
   "cell_type": "code",
   "execution_count": 8,
   "id": "1140127c-189b-48bd-928f-f1d2088dd6de",
   "metadata": {
    "scrolled": true
   },
   "outputs": [
    {
     "data": {
      "text/html": [
       "<div>\n",
       "<style scoped>\n",
       "    .dataframe tbody tr th:only-of-type {\n",
       "        vertical-align: middle;\n",
       "    }\n",
       "\n",
       "    .dataframe tbody tr th {\n",
       "        vertical-align: top;\n",
       "    }\n",
       "\n",
       "    .dataframe thead th {\n",
       "        text-align: right;\n",
       "    }\n",
       "</style>\n",
       "<table border=\"1\" class=\"dataframe\">\n",
       "  <thead>\n",
       "    <tr style=\"text-align: right;\">\n",
       "      <th></th>\n",
       "      <th>n_missing</th>\n",
       "      <th>p_missing</th>\n",
       "      <th>n_unique</th>\n",
       "      <th>dtype</th>\n",
       "    </tr>\n",
       "  </thead>\n",
       "  <tbody>\n",
       "    <tr>\n",
       "      <th>Avg_Open_To_Buy</th>\n",
       "      <td>0</td>\n",
       "      <td>0.0</td>\n",
       "      <td>6813</td>\n",
       "      <td>float64</td>\n",
       "    </tr>\n",
       "    <tr>\n",
       "      <th>Credit_Limit</th>\n",
       "      <td>0</td>\n",
       "      <td>0.0</td>\n",
       "      <td>6205</td>\n",
       "      <td>float64</td>\n",
       "    </tr>\n",
       "    <tr>\n",
       "      <th>Total_Trans_Amt</th>\n",
       "      <td>0</td>\n",
       "      <td>0.0</td>\n",
       "      <td>5033</td>\n",
       "      <td>int64</td>\n",
       "    </tr>\n",
       "    <tr>\n",
       "      <th>Total_Revolving_Bal</th>\n",
       "      <td>0</td>\n",
       "      <td>0.0</td>\n",
       "      <td>1974</td>\n",
       "      <td>int64</td>\n",
       "    </tr>\n",
       "    <tr>\n",
       "      <th>Total_Amt_Chng_Q4_Q1</th>\n",
       "      <td>0</td>\n",
       "      <td>0.0</td>\n",
       "      <td>1158</td>\n",
       "      <td>float64</td>\n",
       "    </tr>\n",
       "    <tr>\n",
       "      <th>Avg_Utilization_Ratio</th>\n",
       "      <td>0</td>\n",
       "      <td>0.0</td>\n",
       "      <td>964</td>\n",
       "      <td>float64</td>\n",
       "    </tr>\n",
       "    <tr>\n",
       "      <th>Total_Ct_Chng_Q4_Q1</th>\n",
       "      <td>0</td>\n",
       "      <td>0.0</td>\n",
       "      <td>830</td>\n",
       "      <td>float64</td>\n",
       "    </tr>\n",
       "    <tr>\n",
       "      <th>Total_Trans_Ct</th>\n",
       "      <td>0</td>\n",
       "      <td>0.0</td>\n",
       "      <td>126</td>\n",
       "      <td>int64</td>\n",
       "    </tr>\n",
       "    <tr>\n",
       "      <th>Customer_Age</th>\n",
       "      <td>0</td>\n",
       "      <td>0.0</td>\n",
       "      <td>45</td>\n",
       "      <td>int64</td>\n",
       "    </tr>\n",
       "    <tr>\n",
       "      <th>Months_on_book</th>\n",
       "      <td>0</td>\n",
       "      <td>0.0</td>\n",
       "      <td>44</td>\n",
       "      <td>int64</td>\n",
       "    </tr>\n",
       "    <tr>\n",
       "      <th>Education_Level</th>\n",
       "      <td>0</td>\n",
       "      <td>0.0</td>\n",
       "      <td>7</td>\n",
       "      <td>object</td>\n",
       "    </tr>\n",
       "    <tr>\n",
       "      <th>Months_Inactive_12_mon</th>\n",
       "      <td>0</td>\n",
       "      <td>0.0</td>\n",
       "      <td>7</td>\n",
       "      <td>int64</td>\n",
       "    </tr>\n",
       "    <tr>\n",
       "      <th>Contacts_Count_12_mon</th>\n",
       "      <td>0</td>\n",
       "      <td>0.0</td>\n",
       "      <td>7</td>\n",
       "      <td>int64</td>\n",
       "    </tr>\n",
       "    <tr>\n",
       "      <th>Total_Relationship_Count</th>\n",
       "      <td>0</td>\n",
       "      <td>0.0</td>\n",
       "      <td>6</td>\n",
       "      <td>int64</td>\n",
       "    </tr>\n",
       "    <tr>\n",
       "      <th>Income_Category</th>\n",
       "      <td>0</td>\n",
       "      <td>0.0</td>\n",
       "      <td>6</td>\n",
       "      <td>object</td>\n",
       "    </tr>\n",
       "    <tr>\n",
       "      <th>Dependent_count</th>\n",
       "      <td>0</td>\n",
       "      <td>0.0</td>\n",
       "      <td>6</td>\n",
       "      <td>int64</td>\n",
       "    </tr>\n",
       "    <tr>\n",
       "      <th>Card_Category</th>\n",
       "      <td>0</td>\n",
       "      <td>0.0</td>\n",
       "      <td>4</td>\n",
       "      <td>object</td>\n",
       "    </tr>\n",
       "    <tr>\n",
       "      <th>Marital_Status</th>\n",
       "      <td>0</td>\n",
       "      <td>0.0</td>\n",
       "      <td>4</td>\n",
       "      <td>object</td>\n",
       "    </tr>\n",
       "    <tr>\n",
       "      <th>Gender</th>\n",
       "      <td>0</td>\n",
       "      <td>0.0</td>\n",
       "      <td>2</td>\n",
       "      <td>object</td>\n",
       "    </tr>\n",
       "    <tr>\n",
       "      <th>Attrition_Flag</th>\n",
       "      <td>0</td>\n",
       "      <td>0.0</td>\n",
       "      <td>2</td>\n",
       "      <td>object</td>\n",
       "    </tr>\n",
       "  </tbody>\n",
       "</table>\n",
       "</div>"
      ],
      "text/plain": [
       "                          n_missing  p_missing  n_unique    dtype\n",
       "Avg_Open_To_Buy                   0        0.0      6813  float64\n",
       "Credit_Limit                      0        0.0      6205  float64\n",
       "Total_Trans_Amt                   0        0.0      5033    int64\n",
       "Total_Revolving_Bal               0        0.0      1974    int64\n",
       "Total_Amt_Chng_Q4_Q1              0        0.0      1158  float64\n",
       "Avg_Utilization_Ratio             0        0.0       964  float64\n",
       "Total_Ct_Chng_Q4_Q1               0        0.0       830  float64\n",
       "Total_Trans_Ct                    0        0.0       126    int64\n",
       "Customer_Age                      0        0.0        45    int64\n",
       "Months_on_book                    0        0.0        44    int64\n",
       "Education_Level                   0        0.0         7   object\n",
       "Months_Inactive_12_mon            0        0.0         7    int64\n",
       "Contacts_Count_12_mon             0        0.0         7    int64\n",
       "Total_Relationship_Count          0        0.0         6    int64\n",
       "Income_Category                   0        0.0         6   object\n",
       "Dependent_count                   0        0.0         6    int64\n",
       "Card_Category                     0        0.0         4   object\n",
       "Marital_Status                    0        0.0         4   object\n",
       "Gender                            0        0.0         2   object\n",
       "Attrition_Flag                    0        0.0         2   object"
      ]
     },
     "execution_count": 8,
     "metadata": {},
     "output_type": "execute_result"
    }
   ],
   "source": [
    "# Summarise\n",
    "helpers.summarise(df).sort_values(by='n_unique', ascending=False)"
   ]
  },
  {
   "cell_type": "markdown",
   "id": "85b39a55",
   "metadata": {},
   "source": [
    "The above confirms again that we don't have any null values, as well as shows that all our categorical variables will be useful as they have a low number of categories - Education Level is the highest with 7.\n",
    "\n",
    "The large number of unique values in the numeric columns could mean that applying some binning to these variables may improve performance in our models."
   ]
  },
  {
   "cell_type": "code",
   "execution_count": 9,
   "id": "ecc5d3f6-976e-4661-bbab-87b58be5d8ef",
   "metadata": {},
   "outputs": [],
   "source": [
    "# Convert Attrition_Flag to 0 = Current Customer & 1 = Churned Customer\n",
    "\n",
    "df.Attrition_Flag = df.Attrition_Flag.replace('Existing Customer', 0)\n",
    "df.Attrition_Flag = df.Attrition_Flag.replace('Attrited Customer', 1)"
   ]
  },
  {
   "cell_type": "markdown",
   "id": "711a2ff9",
   "metadata": {},
   "source": [
    "The above was done to convert the target variable column to 0 and 1 values. This is required for machine learning models. 0 represents current customer and 1 represents churned customer."
   ]
  },
  {
   "cell_type": "markdown",
   "id": "1512d7c7",
   "metadata": {},
   "source": [
    "Below we'll extract out the numeric and categorical column names, as this will be useful for further analysis."
   ]
  },
  {
   "cell_type": "code",
   "execution_count": 10,
   "id": "fdcd56fd",
   "metadata": {},
   "outputs": [],
   "source": [
    "# List of numeric columns, excluding target variable\n",
    "\n",
    "numeric_cols = list(df.select_dtypes(include=['int64', 'float64']).columns)\n",
    "numeric_cols.remove('Attrition_Flag')\n",
    "\n",
    "# List of categorical columns\n",
    "\n",
    "cat_cols = list(df.select_dtypes(include='object').columns)"
   ]
  },
  {
   "cell_type": "markdown",
   "id": "5eab2cbb",
   "metadata": {},
   "source": [
    "In order to understand if we need to do any data wrangling on our categorical columns, we first need to see what values make up these variables. We'll loop through the categorical columns and display value counts."
   ]
  },
  {
   "cell_type": "code",
   "execution_count": 11,
   "id": "b9fbdde9",
   "metadata": {
    "scrolled": true
   },
   "outputs": [
    {
     "data": {
      "text/plain": [
       "F    0.529081\n",
       "M    0.470919\n",
       "Name: Gender, dtype: float64"
      ]
     },
     "metadata": {},
     "output_type": "display_data"
    },
    {
     "name": "stdout",
     "output_type": "stream",
     "text": [
      "-----------------------------------\n"
     ]
    },
    {
     "data": {
      "text/plain": [
       "Graduate         0.308877\n",
       "High School      0.198776\n",
       "Unknown          0.149995\n",
       "Uneducated       0.146835\n",
       "College          0.100030\n",
       "Post-Graduate    0.050953\n",
       "Doctorate        0.044534\n",
       "Name: Education_Level, dtype: float64"
      ]
     },
     "metadata": {},
     "output_type": "display_data"
    },
    {
     "name": "stdout",
     "output_type": "stream",
     "text": [
      "-----------------------------------\n"
     ]
    },
    {
     "data": {
      "text/plain": [
       "Married     0.462822\n",
       "Single      0.389355\n",
       "Unknown     0.073961\n",
       "Divorced    0.073862\n",
       "Name: Marital_Status, dtype: float64"
      ]
     },
     "metadata": {},
     "output_type": "display_data"
    },
    {
     "name": "stdout",
     "output_type": "stream",
     "text": [
      "-----------------------------------\n"
     ]
    },
    {
     "data": {
      "text/plain": [
       "Less than $40K    0.351634\n",
       "$40K - $60K       0.176755\n",
       "$80K - $120K      0.151575\n",
       "$60K - $80K       0.138442\n",
       "Unknown           0.109805\n",
       "$120K +           0.071788\n",
       "Name: Income_Category, dtype: float64"
      ]
     },
     "metadata": {},
     "output_type": "display_data"
    },
    {
     "name": "stdout",
     "output_type": "stream",
     "text": [
      "-----------------------------------\n"
     ]
    },
    {
     "data": {
      "text/plain": [
       "Blue        0.931767\n",
       "Silver      0.054804\n",
       "Gold        0.011455\n",
       "Platinum    0.001975\n",
       "Name: Card_Category, dtype: float64"
      ]
     },
     "metadata": {},
     "output_type": "display_data"
    },
    {
     "name": "stdout",
     "output_type": "stream",
     "text": [
      "-----------------------------------\n"
     ]
    }
   ],
   "source": [
    "# Loop through categorical columns and display value counts\n",
    "\n",
    "for col in cat_cols:\n",
    "    display(df[col].value_counts(normalize=True))\n",
    "    print('-'*35)"
   ]
  },
  {
   "cell_type": "markdown",
   "id": "9f054aed",
   "metadata": {},
   "source": [
    "There are a large number of 'Unknown' values in 3/5 of the categorical columns."
   ]
  },
  {
   "cell_type": "code",
   "execution_count": 12,
   "id": "f7331679-8183-460e-9d21-3474201e71e3",
   "metadata": {},
   "outputs": [],
   "source": [
    "### IDEAS\n",
    "\n",
    "## Conduct binning of categories"
   ]
  },
  {
   "cell_type": "markdown",
   "id": "6b8a735e-701d-4050-8bc4-38c9372fb482",
   "metadata": {},
   "source": [
    "## Exploratory Data Analysis <a id='exploratory'></a>"
   ]
  },
  {
   "cell_type": "markdown",
   "id": "f40bd211-6c2f-4e6f-844f-40fe2780f435",
   "metadata": {},
   "source": [
    "The target variable in this analysis is the 'Attrition_Flag' column, which tells us which customers are current and which ones have churned. We'll begin by understanding the split between these two values, and will achieve this using a bar plot.\n",
    "\n",
    "#### Target Variable - Churned Customers"
   ]
  },
  {
   "cell_type": "code",
   "execution_count": 13,
   "id": "6df408a6-9bd3-4918-b56b-d760c8cff7d6",
   "metadata": {
    "scrolled": true
   },
   "outputs": [
    {
     "data": {
      "image/png": "[encoded data removed]",
      "text/plain": [
       "<Figure size 720x576 with 1 Axes>"
      ]
     },
     "metadata": {},
     "output_type": "display_data"
    },
    {
     "data": {
      "text/html": [
       "<div>\n",
       "<style scoped>\n",
       "    .dataframe tbody tr th:only-of-type {\n",
       "        vertical-align: middle;\n",
       "    }\n",
       "\n",
       "    .dataframe tbody tr th {\n",
       "        vertical-align: top;\n",
       "    }\n",
       "\n",
       "    .dataframe thead th {\n",
       "        text-align: right;\n",
       "    }\n",
       "</style>\n",
       "<table border=\"1\" class=\"dataframe\">\n",
       "  <thead>\n",
       "    <tr style=\"text-align: right;\">\n",
       "      <th></th>\n",
       "      <th>p_frequency</th>\n",
       "      <th>n_frequency</th>\n",
       "    </tr>\n",
       "  </thead>\n",
       "  <tbody>\n",
       "    <tr>\n",
       "      <th>0</th>\n",
       "      <td>0.83934</td>\n",
       "      <td>8500</td>\n",
       "    </tr>\n",
       "    <tr>\n",
       "      <th>1</th>\n",
       "      <td>0.16066</td>\n",
       "      <td>1627</td>\n",
       "    </tr>\n",
       "  </tbody>\n",
       "</table>\n",
       "</div>"
      ],
      "text/plain": [
       "   p_frequency  n_frequency\n",
       "0      0.83934         8500\n",
       "1      0.16066         1627"
      ]
     },
     "execution_count": 13,
     "metadata": {},
     "output_type": "execute_result"
    }
   ],
   "source": [
    "# Create Figure & Axes\n",
    "\n",
    "fig, ax = plt.subplots(figsize=(10,8))\n",
    "\n",
    "# Draw Countplot\n",
    "\n",
    "sns.countplot(data=df, x='Attrition_Flag', ax=ax)\n",
    "\n",
    "# Formatting\n",
    "\n",
    "ax.set_title('Number of Churned Customers', fontsize=16, fontweight='bold')\n",
    "ax.set_xlabel('')\n",
    "ax.set_ylabel('')\n",
    "ax.set_xticklabels(['Current Customer', 'Churned Customer'])\n",
    "sns.despine(fig=fig, bottom=True)\n",
    "\n",
    "# Show Plot\n",
    "\n",
    "plt.tight_layout()\n",
    "plt.show()\n",
    "\n",
    "# Table\n",
    "\n",
    "helpers.find_frequency(df.Attrition_Flag)"
   ]
  },
  {
   "cell_type": "markdown",
   "id": "8550627b-9544-4321-aacf-b16e6a398daa",
   "metadata": {},
   "source": [
    "The data we're working with has a much larger number of current customers, relative to amount of customers that have churned (84% vs 16%). This imbalance will impact the performance of our machine learning models, meaning we'll need to address this imbalance using techniques such as under or oversampling. \n",
    "\n",
    "Let's now get an overview of all the feature variables."
   ]
  },
  {
   "cell_type": "markdown",
   "id": "455ce91e",
   "metadata": {},
   "source": [
    "### Categorical EDA <a id='categorical_eda'></a>"
   ]
  },
  {
   "cell_type": "code",
   "execution_count": 14,
   "id": "6abb0d14",
   "metadata": {
    "scrolled": true
   },
   "outputs": [
    {
     "data": {
      "image/png": "[encoded data removed]",
      "text/plain": [
       "<Figure size 1080x1440 with 5 Axes>"
      ]
     },
     "metadata": {},
     "output_type": "display_data"
    }
   ],
   "source": [
    "# Instantiate figure\n",
    "\n",
    "plt.figure(figsize=(15, 20))\n",
    "plt.subplots_adjust(hspace=0.5)\n",
    "\n",
    "# Loop through the length of columns and keep track of index\n",
    "\n",
    "for n, col in enumerate(cat_cols):\n",
    "    # Add a new subplot iteratively\n",
    "    ax = plt.subplot(7,2, n+1)\n",
    "    \n",
    "    # Plot histogram on new subplot\n",
    "    sns.countplot(data=df, x=col, ax=ax,\n",
    "                 order = df[col].value_counts().index)\n",
    "    \n",
    "    # chart formatting\n",
    "    ax.set_title(col.upper())\n",
    "    ax.set_xlabel(\"\")\n",
    "    ax.set_ylabel(\"\")\n",
    "\n",
    "    plt.tight_layout()"
   ]
  },
  {
   "cell_type": "markdown",
   "id": "2171ccd9",
   "metadata": {},
   "source": [
    "**Key Observations:**\n",
    "- Close to even split of Male and Female Customers\n",
    "- Multiple education levels, with Graduate being the most common\n",
    "- Most customers are Married or Single\n",
    "- Most customers earn less than \\$40k\n",
    "- Most customers are on the 'Blue' Card\n",
    "\n",
    "We will need to encode these variables prior to training any machine learning models. One-Hot Encoding can be used on Gender & Martial Status and Ordinal Encoding on Education, Income and Card Category."
   ]
  },
  {
   "cell_type": "markdown",
   "id": "00090f4b",
   "metadata": {},
   "source": [
    "### Numerical EDA <a id='numerical_eda'></a>\n",
    "\n",
    "We have 15 numerical columns, which we'll initially explore using a combination of histograms and boxplots. This'll provide some insight as to their distribution shape, as well as any potential outliers. \n",
    "\n",
    "###### Histograms"
   ]
  },
  {
   "cell_type": "code",
   "execution_count": 15,
   "id": "be3ca8db",
   "metadata": {
    "scrolled": true
   },
   "outputs": [
    {
     "data": {
      "image/png": "[encoded data removed]",
      "text/plain": [
       "<Figure size 1080x1440 with 14 Axes>"
      ]
     },
     "metadata": {},
     "output_type": "display_data"
    }
   ],
   "source": [
    "# Instantiate figure\n",
    "\n",
    "plt.figure(figsize=(15, 20))\n",
    "plt.subplots_adjust(hspace=0.5)\n",
    "\n",
    "# Loop through the length of columns and keep track of index\n",
    "\n",
    "for n, col in enumerate(numeric_cols):\n",
    "    # Add a new subplot iteratively\n",
    "    ax = plt.subplot(7,4, n+1)\n",
    "    \n",
    "    # Plot histogram on new subplot\n",
    "    sns.histplot(data=df, x=col, ax=ax)\n",
    "    \n",
    "    # chart formatting\n",
    "    ax.set_title(col.upper())\n",
    "    ax.set_xlabel(\"\")\n",
    "    ax.set_ylabel(\"\")\n",
    "\n",
    "    plt.tight_layout()"
   ]
  },
  {
   "cell_type": "markdown",
   "id": "5dd816c3",
   "metadata": {},
   "source": [
    "**Key Observations:**\n",
    "- Customer Age is the most normally distributed out of all the numeric variables\n",
    "- Mixture of discrete and continuous\n",
    "- Months_On_Book shows that there is a substantial amount of customers in this dataset that have been with the bank for 36 months. This may be due to a marketing push done by the bank around that time to acquire new customers.\n",
    "- Credit Limit & AVG_OPEN_TO_BUY have a very similar distribution. With what seems to be a large number of outliers at their tails.\n",
    "- Lots of customers appear to have a low balance on their credit card, then the distribution is fairly normal, with a spike at the tail. This spike may be the customers with a higher credit limit.\n",
    "- Change in transaction amount and count shows that most customers in this dataset transacted less in both amount and count, over the Q4 to Q1 period.\n",
    "- Total transaction amount displays a multi modal distribution, with 4 apparent peaks. This would be a good variable to explore further, to better understand customers spending habits. The transaction count distribution only has 2 peaks."
   ]
  },
  {
   "cell_type": "markdown",
   "id": "0fa23aca",
   "metadata": {},
   "source": [
    "###### Boxplots"
   ]
  },
  {
   "cell_type": "code",
   "execution_count": 16,
   "id": "a901dc93",
   "metadata": {
    "scrolled": true
   },
   "outputs": [
    {
     "data": {
      "image/png": "[encoded data removed]",
      "text/plain": [
       "<Figure size 1080x1440 with 14 Axes>"
      ]
     },
     "metadata": {},
     "output_type": "display_data"
    }
   ],
   "source": [
    "### Instantiate figure\n",
    "\n",
    "plt.figure(figsize=(15, 20))\n",
    "plt.subplots_adjust(hspace=0.5)\n",
    "\n",
    "# Loop through the length of columns and keep track of index\n",
    "\n",
    "for n, col in enumerate(numeric_cols):\n",
    "    # Add a new subplot iteratively\n",
    "    ax = plt.subplot(7,3, n+1)\n",
    "    \n",
    "    # Plot histogram on new subplot\n",
    "    sns.boxplot(data=df, x=col, ax=ax)\n",
    "    \n",
    "    # chart formatting\n",
    "    ax.set_title(col.upper())\n",
    "    ax.set_xlabel(\"\")\n",
    "\n",
    "    plt.tight_layout()"
   ]
  },
  {
   "cell_type": "markdown",
   "id": "14ccdbfa",
   "metadata": {},
   "source": [
    "Boxplots are useful to visually observe the outliers present in a distribution. We can see from the above plots that some of our variables in this dataset contain a large number of outliers. These outliers are mainly present in variables that describe a customers spending habits.\n",
    "\n",
    "Income and Spending habits tend to be highly skewed distributions, given the disparity and inequality in incomes amongst individuals. Given that, we'd expect to see outliers of this nature. We'll need to also explore the distribution in Income categories when we explore our categorical variables."
   ]
  },
  {
   "cell_type": "code",
   "execution_count": 17,
   "id": "302dc9b8",
   "metadata": {},
   "outputs": [
    {
     "data": {
      "text/plain": [
       "Graduate         3128\n",
       "High School      2013\n",
       "Unknown          1519\n",
       "Uneducated       1487\n",
       "College          1013\n",
       "Post-Graduate     516\n",
       "Doctorate         451\n",
       "Name: Education_Level, dtype: int64"
      ]
     },
     "execution_count": 17,
     "metadata": {},
     "output_type": "execute_result"
    }
   ],
   "source": [
    "df.Education_Level.value_counts()"
   ]
  },
  {
   "cell_type": "code",
   "execution_count": 18,
   "id": "ce97d10e",
   "metadata": {},
   "outputs": [
    {
     "data": {
      "text/plain": [
       "array(['Blue', 'Gold', 'Silver', 'Platinum'], dtype=object)"
      ]
     },
     "execution_count": 18,
     "metadata": {},
     "output_type": "execute_result"
    }
   ],
   "source": [
    "df.Card_Category.unique()"
   ]
  },
  {
   "cell_type": "code",
   "execution_count": 23,
   "id": "bcb159ac",
   "metadata": {},
   "outputs": [
    {
     "data": {
      "text/plain": [
       "array(['$60K - $80K', 'Less than $40K', '$80K - $120K', '$40K - $60K',\n",
       "       '$120K +', 'Unknown'], dtype=object)"
      ]
     },
     "execution_count": 23,
     "metadata": {},
     "output_type": "execute_result"
    }
   ],
   "source": [
    "df.Income_Category.unique()"
   ]
  },
  {
   "cell_type": "markdown",
   "id": "dc36163a-8926-4a58-a781-9b4af07ff455",
   "metadata": {},
   "source": [
    "## Modeling <a id='modeling'></a>\n",
    "\n",
    "### Pre-Processing\n",
    "\n",
    "##### Encoding"
   ]
  },
  {
   "cell_type": "markdown",
   "id": "2e3801b9",
   "metadata": {},
   "source": [
    "We'll apply Ordinal Encoding on Educational Level, Card Category and Income Category. Placing the 'Unknown' variable as the lowest value, to signify least importance, and subsequently have the lowest impact on model training."
   ]
  },
  {
   "cell_type": "code",
   "execution_count": 19,
   "id": "22223b4e",
   "metadata": {},
   "outputs": [],
   "source": [
    "# Educational Level - Set Categories\n",
    "\n",
    "ordinal = OrdinalEncoder(categories=[['Unknown', 'Uneducated', 'High School', \n",
    "                                      'College', 'Graduate', 'Post-Graduate',\n",
    "                                     'Doctorate']])\n",
    "\n",
    "# Fit on Dataframe\n",
    "\n",
    "df['Education_Level'] = ordinal.fit_transform(df[['Education_Level']])"
   ]
  },
  {
   "cell_type": "code",
   "execution_count": 20,
   "id": "3f4d424a",
   "metadata": {},
   "outputs": [],
   "source": [
    "# Card Category - Set Categories\n",
    "\n",
    "ordinal = OrdinalEncoder(categories=[['Blue', 'Silver', 'Gold', 'Platinum']])\n",
    "\n",
    "# Fit on Dataframe\n",
    "\n",
    "df['Card_Category'] = ordinal.fit_transform(df[['Card_Category']])"
   ]
  },
  {
   "cell_type": "code",
   "execution_count": 24,
   "id": "1dc2cba8",
   "metadata": {},
   "outputs": [],
   "source": [
    "# Income Category - Set Categories\n",
    "\n",
    "ordinal = OrdinalEncoder(categories=[['Unknown', 'Less than $40K', '$40K - $60K',\n",
    "                                     '$60K - $80K', '$80K - $120K', '$120K +']])\n",
    "\n",
    "# Fit on Dataframe\n",
    "\n",
    "df['Income_Category'] = ordinal.fit_transform(df[['Income_Category']])"
   ]
  },
  {
   "cell_type": "markdown",
   "id": "79ccf76a",
   "metadata": {},
   "source": [
    "We'll apply One Hot Encoding on Marital Status & Gender. To do this, we'll use pandas get_dummies()."
   ]
  },
  {
   "cell_type": "code",
   "execution_count": 29,
   "id": "336c70d4",
   "metadata": {},
   "outputs": [],
   "source": [
    "# Get Dummies\n",
    "\n",
    "df = pd.get_dummies(df)"
   ]
  },
  {
   "cell_type": "markdown",
   "id": "94df878b-dfd7-4555-b4ef-2a2ea60351d2",
   "metadata": {},
   "source": [
    "## Conclusion <a id='conclusion'></a>"
   ]
  },
  {
   "cell_type": "code",
   "execution_count": 22,
   "id": "15f842b7",
   "metadata": {},
   "outputs": [],
   "source": [
    "### TODO:\n",
    "# Describe the categorical variables\n",
    "# Standardise\n",
    "# Encoding Categorical Variables (One Hot and Ordinal)\n",
    "# Scatter Plots (Transaction Amount/Count)\n",
    "# Balance Data\n",
    "# Train/Test Split\n",
    "# Model Building\n",
    "# Model Selection\n",
    "# Hyperparameter Tuning"
   ]
  }
 ],
 "metadata": {
  "kernelspec": {
   "display_name": "Python 3 (ipykernel)",
   "language": "python",
   "name": "python3"
  },
  "language_info": {
   "codemirror_mode": {
    "name": "ipython",
    "version": 3
   },
   "file_extension": ".py",
   "mimetype": "text/x-python",
   "name": "python",
   "nbconvert_exporter": "python",
   "pygments_lexer": "ipython3",
   "version": "3.8.8"
  }
 },
 "nbformat": 4,
 "nbformat_minor": 5
}
